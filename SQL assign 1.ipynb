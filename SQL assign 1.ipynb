{
 "cells": [
  {
   "cell_type": "markdown",
   "id": "7d1ca79d",
   "metadata": {},
   "source": [
    "### Q-1. Write an SQL query to fetch “FIRST_NAME” from Worker table using the alias\n",
    "### name as WORKER_NAME\n"
   ]
  },
  {
   "cell_type": "markdown",
   "id": "d24262f0",
   "metadata": {},
   "source": [
    "Ans:  Select FIRST_NAME AS WORKER_NAME from Worker;"
   ]
  },
  {
   "cell_type": "markdown",
   "id": "14290fc9",
   "metadata": {},
   "source": [
    "### Q-2. Write an SQL query to fetch unique values of DEPARTMENT from Worker table."
   ]
  },
  {
   "cell_type": "markdown",
   "id": "bf52db8f",
   "metadata": {},
   "source": [
    "Ans: Select Distinct DEPARTMENT from Worker;"
   ]
  },
  {
   "cell_type": "markdown",
   "id": "c88cc4e5",
   "metadata": {},
   "source": [
    "### Q-3. Write an SQL query to show the last 5 record from a table."
   ]
  },
  {
   "cell_type": "markdown",
   "id": "f3a4b8b9",
   "metadata": {},
   "source": [
    "Ans:(SELECT *  FROM Worker ORDER BY ID DESC LIMIT 5)\n",
    "\n",
    "ORDER BY ID ASC;"
   ]
  },
  {
   "cell_type": "code",
   "execution_count": null,
   "id": "8e8c23fe",
   "metadata": {},
   "outputs": [],
   "source": []
  },
  {
   "cell_type": "code",
   "execution_count": null,
   "id": "11f73717",
   "metadata": {},
   "outputs": [],
   "source": []
  }
 ],
 "metadata": {
  "kernelspec": {
   "display_name": "Python 3 (ipykernel)",
   "language": "python",
   "name": "python3"
  },
  "language_info": {
   "codemirror_mode": {
    "name": "ipython",
    "version": 3
   },
   "file_extension": ".py",
   "mimetype": "text/x-python",
   "name": "python",
   "nbconvert_exporter": "python",
   "pygments_lexer": "ipython3",
   "version": "3.9.7"
  }
 },
 "nbformat": 4,
 "nbformat_minor": 5
}
