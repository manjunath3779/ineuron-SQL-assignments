{
 "cells": [
  {
   "cell_type": "markdown",
   "id": "2ce923cb",
   "metadata": {},
   "source": [
    "### Q-1. Write an SQL query to print the first three characters of  FIRST_NAME from Worker\n",
    "### table.\n"
   ]
  },
  {
   "cell_type": "markdown",
   "id": "16c44175",
   "metadata": {},
   "source": [
    "Ans: Select substring(FIRST_NAME,1,3) from Worker;"
   ]
  },
  {
   "cell_type": "markdown",
   "id": "24b21a45",
   "metadata": {},
   "source": [
    "### Q-2. Write an SQL query to find the position of the alphabet (‘a’) in the first name\n",
    "### column ‘Amitabh’ from Worker table."
   ]
  },
  {
   "cell_type": "markdown",
   "id": "de6deea5",
   "metadata": {},
   "source": [
    "Ans: Select POSITION(\"a\" IN first_name) FROM Worker WHERE first_name = \"Amitabh\";"
   ]
  },
  {
   "cell_type": "markdown",
   "id": "3524e21b",
   "metadata": {},
   "source": [
    "### Q-3. Write an SQL query to print the name of employees having the highest salary in each\n",
    "### department."
   ]
  },
  {
   "cell_type": "markdown",
   "id": "11f0b3b6",
   "metadata": {},
   "source": [
    "\n",
    "Ans : Select  w.DEPARTMENT,w.FIRST_NAME,w.Salary from(SELECT max(Sal) as Max_Sal,DEPARTMENT from Worker group by DEPARTMENT) as Temp_Sal\n",
    "\n",
    "Inner Join Worker w on Temp_Sal.DEPARTMENT=w.DEPARTMENT and Temp_Sal. Max_Sal=w.Sal;"
   ]
  },
  {
   "cell_type": "markdown",
   "id": "4d770e7e",
   "metadata": {},
   "source": []
  }
 ],
 "metadata": {
  "kernelspec": {
   "display_name": "Python 3 (ipykernel)",
   "language": "python",
   "name": "python3"
  },
  "language_info": {
   "codemirror_mode": {
    "name": "ipython",
    "version": 3
   },
   "file_extension": ".py",
   "mimetype": "text/x-python",
   "name": "python",
   "nbconvert_exporter": "python",
   "pygments_lexer": "ipython3",
   "version": "3.9.7"
  }
 },
 "nbformat": 4,
 "nbformat_minor": 5
}
