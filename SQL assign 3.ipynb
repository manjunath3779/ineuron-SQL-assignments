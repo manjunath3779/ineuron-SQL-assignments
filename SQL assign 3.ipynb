{
 "cells": [
  {
   "cell_type": "markdown",
   "id": "98dfb4c4",
   "metadata": {},
   "source": [
    "### Q-1. Write an SQL query to print the FIRST_NAME from Worker table after removing\n",
    "###  white spaces from the right side.\n"
   ]
  },
  {
   "cell_type": "markdown",
   "id": "73a672af",
   "metadata": {},
   "source": [
    "Ans :Select RTRIM(FIRST_NAME) from Worker;"
   ]
  },
  {
   "cell_type": "markdown",
   "id": "77fe07a5",
   "metadata": {},
   "source": [
    "### Q-2. Write an SQL query that fetches the unique values of DEPARTMENT from Worker\n",
    "### table and prints its length."
   ]
  },
  {
   "cell_type": "markdown",
   "id": "b8384f80",
   "metadata": {},
   "source": [
    "Ans:  Select distinct length(DEPARTMENT) from Worker;"
   ]
  },
  {
   "cell_type": "markdown",
   "id": "29414510",
   "metadata": {},
   "source": [
    "### Q-3. Write an SQL query to fetch nth max salaries from a table."
   ]
  },
  {
   "cell_type": "markdown",
   "id": "76dfbf65",
   "metadata": {},
   "source": [
    "Ans: Select distinct(Salary) from worker w1.WHERE n >= (SELECT count(distinct Salary)\n",
    "from worker w2.WHERE w1.Salary <= w2.Salary) order by w1.Salary DESC;\n"
   ]
  },
  {
   "cell_type": "code",
   "execution_count": null,
   "id": "5ac50f40",
   "metadata": {},
   "outputs": [],
   "source": []
  },
  {
   "cell_type": "code",
   "execution_count": null,
   "id": "e973eb9d",
   "metadata": {},
   "outputs": [],
   "source": []
  },
  {
   "cell_type": "code",
   "execution_count": null,
   "id": "2da98eb8",
   "metadata": {},
   "outputs": [],
   "source": [
    "\n"
   ]
  }
 ],
 "metadata": {
  "kernelspec": {
   "display_name": "Python 3 (ipykernel)",
   "language": "python",
   "name": "python3"
  },
  "language_info": {
   "codemirror_mode": {
    "name": "ipython",
    "version": 3
   },
   "file_extension": ".py",
   "mimetype": "text/x-python",
   "name": "python",
   "nbconvert_exporter": "python",
   "pygments_lexer": "ipython3",
   "version": "3.9.7"
  }
 },
 "nbformat": 4,
 "nbformat_minor": 5
}
